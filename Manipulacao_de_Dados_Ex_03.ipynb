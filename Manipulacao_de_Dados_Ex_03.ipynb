{
 "cells": [
  {
   "cell_type": "markdown",
   "metadata": {
    "colab_type": "text",
    "id": "hAcVCqunNHPq"
   },
   "source": [
    "![](https://i.imgur.com/JsMvGnP.png)"
   ]
  },
  {
   "cell_type": "markdown",
   "metadata": {
    "colab_type": "text",
    "id": "xlIVUULwujKa"
   },
   "source": [
    "\n",
    "## Exercícios de manipulação de dados - Parte 3"
   ]
  },
  {
   "cell_type": "markdown",
   "metadata": {
    "colab_type": "text",
    "id": "RoztT_BzujKc"
   },
   "source": [
    "Neste Jupyter notebook você irá resolver uma exercícios utilizando a linguagem Python e a biblioteca Pandas.\n",
    "\n",
    "Todos os datasets utilizados nos exercícios estão salvos na pasta **datasets**.\n",
    "\n",
    "Todo o seu código deve ser executado neste Jupyter Notebook. Por fim, se desejar, revise as respostas com o seu mentor."
   ]
  },
  {
   "cell_type": "markdown",
   "metadata": {
    "colab_type": "text",
    "id": "VYyMlLtIujKe"
   },
   "source": [
    "### Tarefa 1. Importe o dataset e salve os dados em um dataframe\n",
    "\n",
    "Os dados estão salvos no arquivo ***datasets/users_dataset.csv***.\n",
    "\n",
    "Salve os dados em uma variável de nome *users*."
   ]
  },
  {
   "cell_type": "markdown",
   "metadata": {
    "colab_type": "text",
    "id": "GpGg63VvujKh"
   },
   "source": [
    "### Tarefa 2. Descubra qual a idade média por ocupação.\n",
    "\n",
    "*Dica: use a função groupby do Pandas na coluna occupation*"
   ]
  },
  {
   "cell_type": "code",
   "execution_count": 26,
   "metadata": {
    "colab": {},
    "colab_type": "code",
    "id": "xCzIIT60ujKi"
   },
   "outputs": [
    {
     "data": {
      "text/plain": [
       "occupation\n",
       "administrator    38.746835\n",
       "artist           31.392857\n",
       "doctor           43.571429\n",
       "educator         42.010526\n",
       "engineer         36.388060\n",
       "entertainment    29.222222\n",
       "executive        38.718750\n",
       "healthcare       41.562500\n",
       "homemaker        32.571429\n",
       "lawyer           36.750000\n",
       "librarian        40.000000\n",
       "marketing        37.615385\n",
       "none             26.555556\n",
       "other            34.523810\n",
       "programmer       33.121212\n",
       "retired          63.071429\n",
       "salesman         35.666667\n",
       "scientist        35.548387\n",
       "student          22.081633\n",
       "technician       33.148148\n",
       "writer           36.311111\n",
       "Name: age, dtype: float64"
      ]
     },
     "execution_count": 26,
     "metadata": {},
     "output_type": "execute_result"
    }
   ],
   "source": [
    "import pandas as pd\n",
    "users = pd.read_csv('datasets/users_dataset.csv', sep='|')\n",
    "users.groupby(['occupation']).age.mean()"
   ]
  },
  {
   "cell_type": "markdown",
   "metadata": {
    "colab_type": "text",
    "id": "y1R0vw2XujKn"
   },
   "source": [
    "### Tarefa 3. Para cada ocupação descubra a idade mínima e máxima."
   ]
  },
  {
   "cell_type": "code",
   "execution_count": 33,
   "metadata": {
    "colab": {},
    "colab_type": "code",
    "id": "GhhaqSCtujKp"
   },
   "outputs": [
    {
     "name": "stdout",
     "output_type": "stream",
     "text": [
      "occupation\n",
      "administrator    21\n",
      "artist           19\n",
      "doctor           28\n",
      "educator         23\n",
      "engineer         22\n",
      "entertainment    15\n",
      "executive        22\n",
      "healthcare       22\n",
      "homemaker        20\n",
      "lawyer           21\n",
      "librarian        23\n",
      "marketing        24\n",
      "none             11\n",
      "other            13\n",
      "programmer       20\n",
      "retired          51\n",
      "salesman         18\n",
      "scientist        23\n",
      "student           7\n",
      "technician       21\n",
      "writer           18\n",
      "Name: age, dtype: int64\n",
      "\n",
      "occupation\n",
      "administrator    70\n",
      "artist           48\n",
      "doctor           64\n",
      "educator         63\n",
      "engineer         70\n",
      "entertainment    50\n",
      "executive        69\n",
      "healthcare       62\n",
      "homemaker        50\n",
      "lawyer           53\n",
      "librarian        69\n",
      "marketing        55\n",
      "none             55\n",
      "other            64\n",
      "programmer       63\n",
      "retired          73\n",
      "salesman         66\n",
      "scientist        55\n",
      "student          42\n",
      "technician       55\n",
      "writer           60\n",
      "Name: age, dtype: int64\n"
     ]
    }
   ],
   "source": [
    "print(users.groupby(['occupation']).age.min())\n",
    "print()\n",
    "print(users.groupby(['occupation']).age.max())"
   ]
  },
  {
   "cell_type": "markdown",
   "metadata": {
    "colab_type": "text",
    "id": "DT-Lcsz2ujKz"
   },
   "source": [
    "### Tarefa 4. Para cada combinação de ocupação e sexo, calcule a idade média.\n",
    "\n",
    "Exemplo:\n",
    "\n",
    "```\n",
    "occupation     gender\n",
    "administrator  F         40.638889\n",
    "               M         37.162791\n",
    "artist         F         30.307692\n",
    "               M         32.333333\n",
    "```"
   ]
  },
  {
   "cell_type": "code",
   "execution_count": 45,
   "metadata": {
    "colab": {},
    "colab_type": "code",
    "id": "aMIV75fTujKz"
   },
   "outputs": [
    {
     "data": {
      "text/plain": [
       "occupation     gender\n",
       "administrator  F         40.638889\n",
       "               M         37.162791\n",
       "artist         F         30.307692\n",
       "               M         32.333333\n",
       "doctor         M         43.571429\n",
       "educator       F         39.115385\n",
       "               M         43.101449\n",
       "engineer       F         29.500000\n",
       "               M         36.600000\n",
       "entertainment  F         31.000000\n",
       "               M         29.000000\n",
       "executive      F         44.000000\n",
       "               M         38.172414\n",
       "healthcare     F         39.818182\n",
       "               M         45.400000\n",
       "homemaker      F         34.166667\n",
       "               M         23.000000\n",
       "lawyer         F         39.500000\n",
       "               M         36.200000\n",
       "librarian      F         40.000000\n",
       "               M         40.000000\n",
       "marketing      F         37.200000\n",
       "               M         37.875000\n",
       "none           F         36.500000\n",
       "               M         18.600000\n",
       "other          F         35.472222\n",
       "               M         34.028986\n",
       "programmer     F         32.166667\n",
       "               M         33.216667\n",
       "retired        F         70.000000\n",
       "               M         62.538462\n",
       "salesman       F         27.000000\n",
       "               M         38.555556\n",
       "scientist      F         28.333333\n",
       "               M         36.321429\n",
       "student        F         20.750000\n",
       "               M         22.669118\n",
       "technician     F         38.000000\n",
       "               M         32.961538\n",
       "writer         F         37.631579\n",
       "               M         35.346154\n",
       "All                      34.051962\n",
       "Name: age, dtype: float64"
      ]
     },
     "execution_count": 45,
     "metadata": {},
     "output_type": "execute_result"
    }
   ],
   "source": [
    "# soluçao alternativa: users.pivot_table(users,index=[\"occupation\", \"gender\"], aggfunc='mean', margins=True).age\n",
    "users.groupby(['occupation', 'gender']).mean().age"
   ]
  },
  {
   "cell_type": "markdown",
   "metadata": {
    "colab_type": "text",
    "id": "B2TxLDyoujK3"
   },
   "source": [
    "### Tarefa 5. Para cada ocupação calcule a porcentagem de homens e mulheres.\n",
    "\n",
    "Exemplo:\n",
    "\n",
    "```\n",
    "occupation     gender\n",
    "administrator  F          45.569620\n",
    "               M          54.430380\n",
    "artist         F          46.428571\n",
    "               M          53.571429\n",
    "doctor         M         100.000000\n",
    "educator       F          27.368421\n",
    "               M          72.631579\n",
    "```"
   ]
  },
  {
   "cell_type": "code",
   "execution_count": 67,
   "metadata": {
    "colab": {},
    "colab_type": "code",
    "id": "XnBH1LMuujK4"
   },
   "outputs": [
    {
     "data": {
      "text/plain": [
       "occupation     gender\n",
       "administrator  F          45.569620\n",
       "               M          54.430380\n",
       "artist         F          46.428571\n",
       "               M          53.571429\n",
       "doctor         M         100.000000\n",
       "educator       F          27.368421\n",
       "               M          72.631579\n",
       "engineer       F           2.985075\n",
       "               M          97.014925\n",
       "entertainment  F          11.111111\n",
       "               M          88.888889\n",
       "executive      F           9.375000\n",
       "               M          90.625000\n",
       "healthcare     F          68.750000\n",
       "               M          31.250000\n",
       "homemaker      F          85.714286\n",
       "               M          14.285714\n",
       "lawyer         F          16.666667\n",
       "               M          83.333333\n",
       "librarian      F          56.862745\n",
       "               M          43.137255\n",
       "marketing      F          38.461538\n",
       "               M          61.538462\n",
       "none           F          44.444444\n",
       "               M          55.555556\n",
       "other          F          34.285714\n",
       "               M          65.714286\n",
       "programmer     F           9.090909\n",
       "               M          90.909091\n",
       "retired        F           7.142857\n",
       "               M          92.857143\n",
       "salesman       F          25.000000\n",
       "               M          75.000000\n",
       "scientist      F           9.677419\n",
       "               M          90.322581\n",
       "student        F          30.612245\n",
       "               M          69.387755\n",
       "technician     F           3.703704\n",
       "               M          96.296296\n",
       "writer         F          42.222222\n",
       "               M          57.777778\n",
       "Name: age, dtype: float64"
      ]
     },
     "execution_count": 67,
     "metadata": {},
     "output_type": "execute_result"
    }
   ],
   "source": [
    "100*(users.groupby(['occupation', 'gender']).count().age/users.groupby(['occupation']).count().age)"
   ]
  },
  {
   "cell_type": "markdown",
   "metadata": {
    "colab_type": "text",
    "id": "Wkw71CayujK-"
   },
   "source": [
    "**Parabéns! Você chegou ao fim!**"
   ]
  }
 ],
 "metadata": {
  "colab": {
   "collapsed_sections": [],
   "name": "Exercicios_unidade_5_Manipulacao_de_Dados_Parte_03.ipynb",
   "provenance": []
  },
  "kernelspec": {
   "display_name": "Python 3",
   "language": "python",
   "name": "python3"
  },
  "language_info": {
   "codemirror_mode": {
    "name": "ipython",
    "version": 3
   },
   "file_extension": ".py",
   "mimetype": "text/x-python",
   "name": "python",
   "nbconvert_exporter": "python",
   "pygments_lexer": "ipython3",
   "version": "3.8.3"
  }
 },
 "nbformat": 4,
 "nbformat_minor": 1
}
